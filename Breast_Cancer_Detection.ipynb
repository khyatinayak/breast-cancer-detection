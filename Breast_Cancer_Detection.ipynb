{
  "nbformat": 4,
  "nbformat_minor": 0,
  "metadata": {
    "colab": {
      "provenance": [],
      "gpuType": "T4",
      "authorship_tag": "ABX9TyP+XhUXBsAkA2V7BYOxLgIv",
      "include_colab_link": true
    },
    "kernelspec": {
      "name": "python3",
      "display_name": "Python 3"
    },
    "language_info": {
      "name": "python"
    },
    "accelerator": "GPU"
  },
  "cells": [
    {
      "cell_type": "markdown",
      "metadata": {
        "id": "view-in-github",
        "colab_type": "text"
      },
      "source": [
        "<a href=\"https://colab.research.google.com/github/khyatinayak/breast-cancer-detection/blob/main/Breast_Cancer_Detection.ipynb\" target=\"_parent\"><img src=\"https://colab.research.google.com/assets/colab-badge.svg\" alt=\"Open In Colab\"/></a>"
      ]
    },
    {
      "cell_type": "markdown",
      "source": [
        "**Import all the dependencies**"
      ],
      "metadata": {
        "id": "XmDivJs_dmYj"
      }
    },
    {
      "cell_type": "code",
      "source": [
        "import torch\n",
        "from torch import nn\n",
        "import torch.optim as optim\n",
        "from sklearn.datasets import load_breast_cancer\n",
        "from sklearn.model_selection import train_test_split\n",
        "from sklearn.preprocessing import StandardScaler"
      ],
      "metadata": {
        "id": "A9LKzSl4drXe"
      },
      "execution_count": null,
      "outputs": []
    },
    {
      "cell_type": "markdown",
      "source": [
        "**Device** **Configuration**"
      ],
      "metadata": {
        "id": "mQK7jF_gefsJ"
      }
    },
    {
      "cell_type": "code",
      "source": [
        "device= torch.device(\"cuda\" if torch.cuda.is_available() else \"cpu\")\n",
        "print(f\"Using Device: {device}\")"
      ],
      "metadata": {
        "colab": {
          "base_uri": "https://localhost:8080/"
        },
        "id": "2zmHqtzEepF3",
        "outputId": "5e4b0628-d646-412b-9328-00428d2ad5e6"
      },
      "execution_count": null,
      "outputs": [
        {
          "output_type": "stream",
          "name": "stdout",
          "text": [
            "Using Device: cuda\n"
          ]
        }
      ]
    },
    {
      "cell_type": "markdown",
      "source": [
        "#Data Collection and Preprocessing"
      ],
      "metadata": {
        "id": "9s86EszSfNmz"
      }
    },
    {
      "cell_type": "code",
      "source": [
        "#load the breast cancer dataset\n",
        "data=load_breast_cancer()\n",
        "X=data.data\n",
        "y=data.target\n",
        "X[:5],y[:5]"
      ],
      "metadata": {
        "colab": {
          "base_uri": "https://localhost:8080/"
        },
        "id": "wRy3l92_fSgG",
        "outputId": "5c8a8717-40e2-469a-9e33-95dbcc7e4db2"
      },
      "execution_count": null,
      "outputs": [
        {
          "output_type": "execute_result",
          "data": {
            "text/plain": [
              "(array([[1.799e+01, 1.038e+01, 1.228e+02, 1.001e+03, 1.184e-01, 2.776e-01,\n",
              "         3.001e-01, 1.471e-01, 2.419e-01, 7.871e-02, 1.095e+00, 9.053e-01,\n",
              "         8.589e+00, 1.534e+02, 6.399e-03, 4.904e-02, 5.373e-02, 1.587e-02,\n",
              "         3.003e-02, 6.193e-03, 2.538e+01, 1.733e+01, 1.846e+02, 2.019e+03,\n",
              "         1.622e-01, 6.656e-01, 7.119e-01, 2.654e-01, 4.601e-01, 1.189e-01],\n",
              "        [2.057e+01, 1.777e+01, 1.329e+02, 1.326e+03, 8.474e-02, 7.864e-02,\n",
              "         8.690e-02, 7.017e-02, 1.812e-01, 5.667e-02, 5.435e-01, 7.339e-01,\n",
              "         3.398e+00, 7.408e+01, 5.225e-03, 1.308e-02, 1.860e-02, 1.340e-02,\n",
              "         1.389e-02, 3.532e-03, 2.499e+01, 2.341e+01, 1.588e+02, 1.956e+03,\n",
              "         1.238e-01, 1.866e-01, 2.416e-01, 1.860e-01, 2.750e-01, 8.902e-02],\n",
              "        [1.969e+01, 2.125e+01, 1.300e+02, 1.203e+03, 1.096e-01, 1.599e-01,\n",
              "         1.974e-01, 1.279e-01, 2.069e-01, 5.999e-02, 7.456e-01, 7.869e-01,\n",
              "         4.585e+00, 9.403e+01, 6.150e-03, 4.006e-02, 3.832e-02, 2.058e-02,\n",
              "         2.250e-02, 4.571e-03, 2.357e+01, 2.553e+01, 1.525e+02, 1.709e+03,\n",
              "         1.444e-01, 4.245e-01, 4.504e-01, 2.430e-01, 3.613e-01, 8.758e-02],\n",
              "        [1.142e+01, 2.038e+01, 7.758e+01, 3.861e+02, 1.425e-01, 2.839e-01,\n",
              "         2.414e-01, 1.052e-01, 2.597e-01, 9.744e-02, 4.956e-01, 1.156e+00,\n",
              "         3.445e+00, 2.723e+01, 9.110e-03, 7.458e-02, 5.661e-02, 1.867e-02,\n",
              "         5.963e-02, 9.208e-03, 1.491e+01, 2.650e+01, 9.887e+01, 5.677e+02,\n",
              "         2.098e-01, 8.663e-01, 6.869e-01, 2.575e-01, 6.638e-01, 1.730e-01],\n",
              "        [2.029e+01, 1.434e+01, 1.351e+02, 1.297e+03, 1.003e-01, 1.328e-01,\n",
              "         1.980e-01, 1.043e-01, 1.809e-01, 5.883e-02, 7.572e-01, 7.813e-01,\n",
              "         5.438e+00, 9.444e+01, 1.149e-02, 2.461e-02, 5.688e-02, 1.885e-02,\n",
              "         1.756e-02, 5.115e-03, 2.254e+01, 1.667e+01, 1.522e+02, 1.575e+03,\n",
              "         1.374e-01, 2.050e-01, 4.000e-01, 1.625e-01, 2.364e-01, 7.678e-02]]),\n",
              " array([0, 0, 0, 0, 0]))"
            ]
          },
          "metadata": {},
          "execution_count": 22
        }
      ]
    },
    {
      "cell_type": "code",
      "source": [
        "#Split the dataset into training data and testing data\n",
        "X_train, X_test, y_train, y_test=train_test_split(X, y, test_size=0.2, random_state=42)"
      ],
      "metadata": {
        "id": "e_wlChMOf2Qs"
      },
      "execution_count": null,
      "outputs": []
    },
    {
      "cell_type": "code",
      "source": [
        "X.shape, X_train.shape, X_test.shape"
      ],
      "metadata": {
        "colab": {
          "base_uri": "https://localhost:8080/"
        },
        "id": "At6iUBq2gLrC",
        "outputId": "ff124646-c909-4b47-87c0-e61af8d50f30"
      },
      "execution_count": null,
      "outputs": [
        {
          "output_type": "execute_result",
          "data": {
            "text/plain": [
              "((569, 30), (455, 30), (114, 30))"
            ]
          },
          "metadata": {},
          "execution_count": 24
        }
      ]
    },
    {
      "cell_type": "code",
      "source": [
        "#standardize the data using Standard Scaler\n",
        "scaler=StandardScaler()\n",
        "X_train=scaler.fit_transform(X_train)\n",
        "X_test=scaler.transform(X_test)"
      ],
      "metadata": {
        "id": "yxcque4YgWiZ"
      },
      "execution_count": null,
      "outputs": []
    },
    {
      "cell_type": "code",
      "source": [
        "#convert data to pytorch tensor and move it to GPU\n",
        "X_train= torch.tensor(X_train, dtype=torch.float32).to(device)\n",
        "y_train= torch.tensor(y_train, dtype=torch.float32).to(device)\n",
        "X_test= torch.tensor(X_test, dtype=torch.float32).to(device)\n",
        "y_test= torch.tensor(y_test, dtype=torch.float32).to(device)"
      ],
      "metadata": {
        "id": "VbTDTwPehSZ-"
      },
      "execution_count": null,
      "outputs": []
    },
    {
      "cell_type": "markdown",
      "source": [
        "#Neural Network Architecture"
      ],
      "metadata": {
        "id": "JwqHbX-RidzW"
      }
    },
    {
      "cell_type": "code",
      "source": [
        "class NeuralNet(nn.Module):\n",
        "  def __init__(self, input_shape:int, hidden_units:int, output_shape:int):\n",
        "    super(NeuralNet, self).__init__()\n",
        "    self.fc1=nn.Linear(input_shape, hidden_units)\n",
        "    self.relu=nn.ReLU()\n",
        "    self.fc2=nn.Linear(hidden_units, output_shape)\n",
        "    self.sigmoid=nn.Sigmoid()\n",
        "\n",
        "  def forward(self,x):\n",
        "    out=self.fc1(x)\n",
        "    out=self.relu(out)\n",
        "    out=self.fc2(out)\n",
        "    out=self.sigmoid(out)\n",
        "\n",
        "    return out"
      ],
      "metadata": {
        "id": "toHnLdxeiiRy"
      },
      "execution_count": null,
      "outputs": []
    },
    {
      "cell_type": "code",
      "source": [
        "#define hyperparameters\n",
        "input_shape=X_train.shape[1]\n",
        "hidden_units=64\n",
        "output_shape=1\n",
        "num_of_epochs=1000"
      ],
      "metadata": {
        "id": "IVAdczRNkdRl"
      },
      "execution_count": null,
      "outputs": []
    },
    {
      "cell_type": "code",
      "source": [
        "#initialize the neural network and move it to GPU\n",
        "model=NeuralNet(input_shape,hidden_units,output_shape).to(device)"
      ],
      "metadata": {
        "id": "--w62meyk9TQ"
      },
      "execution_count": null,
      "outputs": []
    },
    {
      "cell_type": "code",
      "source": [
        "#define the loss function and optimizer\n",
        "loss_fn=nn.BCELoss()\n",
        "optimizer=optim.Adam(params=model.parameters(),lr=0.1)\n",
        "\n",
        "def acc_score(y_true,y_pred):\n",
        "  correct=torch.eq(y_true,y_pred).sum().item() #torch.eq checks how much equal are 2 parameters\n",
        "  accuracy=(correct/len(y_pred))*100\n",
        "  return accuracy"
      ],
      "metadata": {
        "id": "uDch6jOnlPbm"
      },
      "execution_count": null,
      "outputs": []
    },
    {
      "cell_type": "markdown",
      "source": [
        "#Training the model"
      ],
      "metadata": {
        "id": "TQ7KorQflrPj"
      }
    },
    {
      "cell_type": "code",
      "source": [
        "for epoch in range(num_of_epochs):\n",
        "\n",
        "    # Training mode\n",
        "    model.train()\n",
        "\n",
        "    # Forward pass\n",
        "    y_preds = model(X_train).view(-1)  # Ensure y_preds has the same shape as y_train\n",
        "\n",
        "    # Loss\n",
        "    loss = loss_fn(y_preds, y_train)\n",
        "\n",
        "    # Zero grad\n",
        "    optimizer.zero_grad()\n",
        "\n",
        "    # Loss backward\n",
        "    loss.backward()\n",
        "\n",
        "    # Step up optimizer\n",
        "    optimizer.step()\n",
        "\n",
        "    model.eval()\n",
        "    with torch.inference_mode():\n",
        "        # Forward pass\n",
        "        test_pred = model(X_test).view(-1)  # Ensure test_pred has the same shape as y_test\n",
        "\n",
        "        # Calculate loss\n",
        "        test_loss = loss_fn(test_pred, y_test)\n",
        "\n",
        "        # Calculate accuracy\n",
        "        test_acc = acc_score(y_true=y_test, y_pred=test_pred > 0.5)\n",
        "\n",
        "    # Print out what's happening every 10 epochs\n",
        "    if epoch % 40 == 0:\n",
        "        training_acc = acc_score(y_true=y_train, y_pred=y_preds > 0.5)  # Calculate training accuracy\n",
        "        print(f\"Epoch: {epoch} | Loss: {loss:.5f}, Accuracy: {training_acc:.2f}% | Test loss: {test_loss:.5f}, Test acc: {test_acc:.2f}%\")"
      ],
      "metadata": {
        "colab": {
          "base_uri": "https://localhost:8080/"
        },
        "id": "HmwvzPw3lva2",
        "outputId": "75cdcd2e-0a1f-45aa-a025-facd05acffef"
      },
      "execution_count": null,
      "outputs": [
        {
          "output_type": "stream",
          "name": "stdout",
          "text": [
            "Epoch: 0 | Loss: 0.63759, Accuracy: 63.96% | Test loss: 0.12409, Test acc: 96.49%\n",
            "Epoch: 40 | Loss: 0.00620, Accuracy: 99.78% | Test loss: 0.20124, Test acc: 97.37%\n",
            "Epoch: 80 | Loss: 0.00049, Accuracy: 100.00% | Test loss: 0.24841, Test acc: 97.37%\n",
            "Epoch: 120 | Loss: 0.00020, Accuracy: 100.00% | Test loss: 0.26644, Test acc: 97.37%\n",
            "Epoch: 160 | Loss: 0.00012, Accuracy: 100.00% | Test loss: 1.00856, Test acc: 97.37%\n",
            "Epoch: 200 | Loss: 0.00008, Accuracy: 100.00% | Test loss: 1.01240, Test acc: 97.37%\n",
            "Epoch: 240 | Loss: 0.00006, Accuracy: 100.00% | Test loss: 1.01581, Test acc: 97.37%\n",
            "Epoch: 280 | Loss: 0.00005, Accuracy: 100.00% | Test loss: 1.01900, Test acc: 97.37%\n",
            "Epoch: 320 | Loss: 0.00004, Accuracy: 100.00% | Test loss: 1.02167, Test acc: 97.37%\n",
            "Epoch: 360 | Loss: 0.00003, Accuracy: 100.00% | Test loss: 1.02413, Test acc: 97.37%\n",
            "Epoch: 400 | Loss: 0.00003, Accuracy: 100.00% | Test loss: 1.02644, Test acc: 97.37%\n",
            "Epoch: 440 | Loss: 0.00002, Accuracy: 100.00% | Test loss: 1.02854, Test acc: 97.37%\n",
            "Epoch: 480 | Loss: 0.00002, Accuracy: 100.00% | Test loss: 1.03048, Test acc: 97.37%\n",
            "Epoch: 520 | Loss: 0.00002, Accuracy: 100.00% | Test loss: 1.03228, Test acc: 97.37%\n",
            "Epoch: 560 | Loss: 0.00001, Accuracy: 100.00% | Test loss: 1.03394, Test acc: 97.37%\n",
            "Epoch: 600 | Loss: 0.00001, Accuracy: 100.00% | Test loss: 1.03548, Test acc: 97.37%\n",
            "Epoch: 640 | Loss: 0.00001, Accuracy: 100.00% | Test loss: 1.03692, Test acc: 97.37%\n",
            "Epoch: 680 | Loss: 0.00001, Accuracy: 100.00% | Test loss: 1.03829, Test acc: 97.37%\n",
            "Epoch: 720 | Loss: 0.00001, Accuracy: 100.00% | Test loss: 1.03960, Test acc: 97.37%\n",
            "Epoch: 760 | Loss: 0.00001, Accuracy: 100.00% | Test loss: 1.04088, Test acc: 97.37%\n",
            "Epoch: 800 | Loss: 0.00001, Accuracy: 100.00% | Test loss: 1.04215, Test acc: 97.37%\n",
            "Epoch: 840 | Loss: 0.00001, Accuracy: 100.00% | Test loss: 1.04337, Test acc: 97.37%\n",
            "Epoch: 880 | Loss: 0.00001, Accuracy: 100.00% | Test loss: 1.04452, Test acc: 97.37%\n",
            "Epoch: 920 | Loss: 0.00001, Accuracy: 100.00% | Test loss: 1.04560, Test acc: 97.37%\n",
            "Epoch: 960 | Loss: 0.00001, Accuracy: 100.00% | Test loss: 1.04665, Test acc: 97.37%\n"
          ]
        }
      ]
    },
    {
      "cell_type": "code",
      "source": [
        "#Model in evaluation\n",
        "model.eval()\n",
        "with torch.inference_mode():\n",
        "    # Forward pass\n",
        "    test_pred = model(X_train).view(-1)  # Ensure test_pred has the same shape as y_test\n",
        "\n",
        "    # Calculate accuracy\n",
        "    test_acc = acc_score(y_true=y_train, y_pred=test_pred > 0.5)\n",
        "\n",
        "    #accuracy\n",
        "    print(f\"Accuracy of training data: {test_acc:.2f}\")"
      ],
      "metadata": {
        "colab": {
          "base_uri": "https://localhost:8080/"
        },
        "id": "alH-oOXHtzta",
        "outputId": "cd22c86a-9f69-48db-cfc3-6319aaa54704"
      },
      "execution_count": null,
      "outputs": [
        {
          "output_type": "stream",
          "name": "stdout",
          "text": [
            "Accuracy of training data: 100.00\n"
          ]
        }
      ]
    },
    {
      "cell_type": "code",
      "source": [
        "#Model in evaluation\n",
        "model.eval()\n",
        "with torch.inference_mode():\n",
        "    # Forward pass\n",
        "    test_pred = model(X_test).view(-1)  # Ensure test_pred has the same shape as y_test\n",
        "\n",
        "    # Calculate accuracy\n",
        "    test_acc = acc_score(y_true=y_test, y_pred=test_pred > 0.5)\n",
        "\n",
        "    #accuracy\n",
        "    print(f\"Accuracy of test data: {test_acc:.2f}\")"
      ],
      "metadata": {
        "colab": {
          "base_uri": "https://localhost:8080/"
        },
        "id": "KInRO4t_vm9e",
        "outputId": "38c0ed90-3650-4e61-dede-30d784e9e785"
      },
      "execution_count": null,
      "outputs": [
        {
          "output_type": "stream",
          "name": "stdout",
          "text": [
            "Accuracy of test data: 97.37\n"
          ]
        }
      ]
    }
  ]
}